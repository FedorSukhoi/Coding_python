{
 "cells": [
  {
   "cell_type": "code",
   "execution_count": 1,
   "metadata": {},
   "outputs": [],
   "source": [
    "import pandas as pd\n",
    "from datasets import load_dataset\n",
    "import matplotlib.pyplot as plt\n",
    "import ast\n",
    "import seaborn as sns\n",
    "\n",
    "dataset = load_dataset('lukebarousse/data_jobs')\n",
    "df = dataset['train'].to_pandas()\n",
    "\n",
    "df['job_posted_date'] = pd.to_datetime(df['job_posted_date'])\n",
    "df['job_skills'] = df['job_skills'].apply(lambda x: ast.literal_eval(x) if pd.notna(x) else x)"
   ]
  },
  {
   "cell_type": "code",
   "execution_count": 2,
   "metadata": {},
   "outputs": [],
   "source": [
    "list_countries = [\n",
    "    \"Austria\",\n",
    "    \"Belgium\",\n",
    "    \"Bulgaria\",\n",
    "    \"Croatia\",\n",
    "    \"Cyprus\",\n",
    "    \"Czech Republic\",\n",
    "    \"Denmark\",\n",
    "    \"Estonia\",\n",
    "    \"Finland\",\n",
    "    \"France\",\n",
    "    \"Germany\",\n",
    "    \"Greece\",\n",
    "    \"Hungary\",\n",
    "    \"Ireland\",\n",
    "    \"Italy\",\n",
    "    \"Latvia\",\n",
    "    \"Lithuania\",\n",
    "    \"Luxembourg\",\n",
    "    \"Malta\",\n",
    "    \"Netherlands\",\n",
    "    \"Poland\",\n",
    "    \"Portugal\",\n",
    "    \"Romania\",\n",
    "    \"Slovakia\",\n",
    "    \"Slovenia\",\n",
    "    \"Spain\",\n",
    "    \"Sweden\"\n",
    "]\n",
    "\n",
    "jobs_top4 = ['Machine Learning Engineer', 'Data Analyst', 'Data Engineer', 'Data Scientist']\n",
    "\n",
    "df_EU_top4 = df[df['job_country'].isin(list_countries) & df['job_title_short'].isin(jobs_top4)].copy()"
   ]
  },
  {
   "cell_type": "code",
   "execution_count": 4,
   "metadata": {},
   "outputs": [
    {
     "data": {
      "text/html": [
       "<div>\n",
       "<style scoped>\n",
       "    .dataframe tbody tr th:only-of-type {\n",
       "        vertical-align: middle;\n",
       "    }\n",
       "\n",
       "    .dataframe tbody tr th {\n",
       "        vertical-align: top;\n",
       "    }\n",
       "\n",
       "    .dataframe thead th {\n",
       "        text-align: right;\n",
       "    }\n",
       "</style>\n",
       "<table border=\"1\" class=\"dataframe\">\n",
       "  <thead>\n",
       "    <tr style=\"text-align: right;\">\n",
       "      <th></th>\n",
       "      <th>count</th>\n",
       "      <th>median</th>\n",
       "    </tr>\n",
       "    <tr>\n",
       "      <th>job_skills</th>\n",
       "      <th></th>\n",
       "      <th></th>\n",
       "    </tr>\n",
       "  </thead>\n",
       "  <tbody>\n",
       "    <tr>\n",
       "      <th>python</th>\n",
       "      <td>679</td>\n",
       "      <td>101029.00</td>\n",
       "    </tr>\n",
       "    <tr>\n",
       "      <th>sql</th>\n",
       "      <td>573</td>\n",
       "      <td>102500.00</td>\n",
       "    </tr>\n",
       "    <tr>\n",
       "      <th>spark</th>\n",
       "      <td>290</td>\n",
       "      <td>111175.00</td>\n",
       "    </tr>\n",
       "    <tr>\n",
       "      <th>aws</th>\n",
       "      <td>264</td>\n",
       "      <td>103584.00</td>\n",
       "    </tr>\n",
       "    <tr>\n",
       "      <th>azure</th>\n",
       "      <td>222</td>\n",
       "      <td>98400.75</td>\n",
       "    </tr>\n",
       "    <tr>\n",
       "      <th>...</th>\n",
       "      <td>...</td>\n",
       "      <td>...</td>\n",
       "    </tr>\n",
       "    <tr>\n",
       "      <th>smartsheet</th>\n",
       "      <td>1</td>\n",
       "      <td>155000.00</td>\n",
       "    </tr>\n",
       "    <tr>\n",
       "      <th>symphony</th>\n",
       "      <td>1</td>\n",
       "      <td>89100.00</td>\n",
       "    </tr>\n",
       "    <tr>\n",
       "      <th>solidity</th>\n",
       "      <td>1</td>\n",
       "      <td>140000.00</td>\n",
       "    </tr>\n",
       "    <tr>\n",
       "      <th>ms access</th>\n",
       "      <td>1</td>\n",
       "      <td>105000.00</td>\n",
       "    </tr>\n",
       "    <tr>\n",
       "      <th>trello</th>\n",
       "      <td>1</td>\n",
       "      <td>89100.00</td>\n",
       "    </tr>\n",
       "  </tbody>\n",
       "</table>\n",
       "<p>156 rows × 2 columns</p>\n",
       "</div>"
      ],
      "text/plain": [
       "            count     median\n",
       "job_skills                  \n",
       "python        679  101029.00\n",
       "sql           573  102500.00\n",
       "spark         290  111175.00\n",
       "aws           264  103584.00\n",
       "azure         222   98400.75\n",
       "...           ...        ...\n",
       "smartsheet      1  155000.00\n",
       "symphony        1   89100.00\n",
       "solidity        1  140000.00\n",
       "ms access       1  105000.00\n",
       "trello          1   89100.00\n",
       "\n",
       "[156 rows x 2 columns]"
      ]
     },
     "execution_count": 4,
     "metadata": {},
     "output_type": "execute_result"
    }
   ],
   "source": [
    "df_EU_top4 = df_EU_top4.dropna(subset='salary_year_avg')\n",
    "df_EU_top4_ex = df_EU_top4.explode('job_skills')\n",
    "df_EU_top4_ex = df_EU_top4_ex.groupby('job_skills')['salary_year_avg'].agg(['count', 'median']).sort_values(by='count', ascending=False)\n",
    "df_EU_top4_ex"
   ]
  },
  {
   "cell_type": "code",
   "execution_count": 14,
   "metadata": {},
   "outputs": [],
   "source": [
    "df_EU_top4_ex['optimal_coefficient'] = pow(df_EU_top4_ex['count'], 1/3)*df_EU_top4_ex['median']/10000\n",
    "df_EU_top4_ex = df_EU_top4_ex.sort_values(by='optimal_coefficient', ascending=False).head(10)"
   ]
  },
  {
   "cell_type": "code",
   "execution_count": 24,
   "metadata": {},
   "outputs": [
    {
     "data": {
      "image/png": "[encoded data removed]",
      "text/plain": [
       "<Figure size 640x480 with 1 Axes>"
      ]
     },
     "metadata": {},
     "output_type": "display_data"
    }
   ],
   "source": [
    "sns.barplot(data=df_EU_top4_ex, x='optimal_coefficient', y='job_skills', hue='optimal_coefficient', palette='dark:b_r', legend=False)\n",
    "\n",
    "sns.set_theme(style='ticks')\n",
    "\n",
    "sns.set_theme(style= 'ticks')\n",
    "sns.despine()\n",
    "\n",
    "plt.title('Skills sorted by Optimal Coefficient*')\n",
    "plt.xlabel('')\n",
    "plt.ylabel('')\n",
    "\n",
    "plt.figtext(0.5, -0.01, \"*Optimal Coefficient is calculated by taking a third root of skill count and multiplying it by salary average.\", ha=\"center\", fontsize=10)\n",
    "plt.show()"
   ]
  }
 ],
 "metadata": {
  "kernelspec": {
   "display_name": "LBCourse",
   "language": "python",
   "name": "python3"
  },
  "language_info": {
   "codemirror_mode": {
    "name": "ipython",
    "version": 3
   },
   "file_extension": ".py",
   "mimetype": "text/x-python",
   "name": "python",
   "nbconvert_exporter": "python",
   "pygments_lexer": "ipython3",
   "version": "3.12.4"
  }
 },
 "nbformat": 4,
 "nbformat_minor": 2
}
